{
 "cells": [
  {
   "cell_type": "code",
   "execution_count": null,
   "metadata": {},
   "outputs": [],
   "source": [
    "import numpy as np\n",
    "import matplotlib.pyplot as plt\n",
    "import matplotlib.animation as animation\n",
    "import h5py\n",
    "from pathlib import Path"
   ]
  },
  {
   "cell_type": "code",
   "execution_count": null,
   "metadata": {},
   "outputs": [],
   "source": [
    "def create_movie(filename):\n",
    "    with h5py.File(filename, \"r\") as h5f:\n",
    "        # For the HDF5 files that we have, we should get only the ['director'] key if we run the following command:\n",
    "        # print(list(h5f.keys()))\n",
    "\n",
    "        # We can now read this into a numpy array, as follows:\n",
    "        director = h5f['director'][:]\n",
    "\n",
    "        # The dimensions of the director array are as follows:\n",
    "        time_points = director.shape[0]\n",
    "        height = director.shape[2]\n",
    "        width = director.shape[3]\n",
    "        # director.shape[1] is always 2, by construction, to allow for both nx and ny values\n",
    "\n",
    "        fig, ax = plt.subplots(figsize=(20, 20))\n",
    "        x, y = np.meshgrid(np.arange(height), np.arange(width))\n",
    "        quiver = ax.quiver(x, y, 0, 0)\n",
    "\n",
    "        def update(t):\n",
    "            u = director[t][0][:][:]    # nx\n",
    "            v = director[t][1][:][:]    # ny\n",
    "\n",
    "            quiver.set_UVC(u, v)        # This updates the direction with the time\n",
    "            \n",
    "            ax.set_title(\"t = \" + str(t))\n",
    "            return quiver,\n",
    "\n",
    "        ani = animation.FuncAnimation(fig, update, frames = time_points, blit=False)\n",
    "        ani.save(Path(filename).stem + \".mp4\", writer='ffmpeg', fps=1)"
   ]
  },
  {
   "cell_type": "code",
   "execution_count": null,
   "metadata": {},
   "outputs": [],
   "source": [
    "create_movie(\"../data/activity_assay/z0.hdf5\")"
   ]
  }
 ],
 "metadata": {
  "kernelspec": {
   "display_name": "Python 3",
   "language": "python",
   "name": "python3"
  },
  "language_info": {
   "codemirror_mode": {
    "name": "ipython",
    "version": 3
   },
   "file_extension": ".py",
   "mimetype": "text/x-python",
   "name": "python",
   "nbconvert_exporter": "python",
   "pygments_lexer": "ipython3",
   "version": "3.9.12"
  }
 },
 "nbformat": 4,
 "nbformat_minor": 2
}
