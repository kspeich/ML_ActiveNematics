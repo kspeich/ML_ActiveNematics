{
 "cells": [
  {
   "cell_type": "code",
   "execution_count": null,
   "metadata": {},
   "outputs": [],
   "source": [
    "import numpy as np\n",
    "import matplotlib.pyplot as plt\n",
    "import matplotlib.animation as animation\n",
    "import h5py\n",
    "from pathlib import Path\n",
    "from tqdm import tqdm"
   ]
  },
  {
   "cell_type": "code",
   "execution_count": null,
   "metadata": {},
   "outputs": [],
   "source": [
    "def create_movie(filename, output_dir):\n",
    "    with h5py.File(filename, \"r\") as h5f:\n",
    "        # For the HDF5 files that we have, we should get only the ['director'] key if we run print(list(h5f.keys()))\n",
    "        # We can now read this into a numpy array, as follows:\n",
    "        director = h5f['director']\n",
    "\n",
    "        # The dimensions of the director array are as follows:\n",
    "        time_points = director.shape[0]\n",
    "        height = director.shape[2]\n",
    "        width = director.shape[3]\n",
    "        # director.shape[1] is always 2, by construction, to allow for both nx and ny values\n",
    "\n",
    "        fig, ax = plt.subplots(figsize=(15, 15))\n",
    "        x, y = np.meshgrid(np.arange(height), np.arange(width))\n",
    "\n",
    "        # Just for convenience, a progress bar\n",
    "        progress_bar = tqdm(total=time_points, desc=\"Animating\", leave=True)\n",
    "\n",
    "        def update(t):\n",
    "            # print(\"t = \" + str(t))\n",
    "\n",
    "            ax.clear()\n",
    "\n",
    "            # Then, we can reset the streamplot with the appropriate nx and ny values\n",
    "            u = director[t][0]      # nx\n",
    "            v = director[t][1]      # ny\n",
    "\n",
    "            # Update stream\n",
    "            ax.streamplot(x, y, u, v, density=5, linewidth=0.5, arrowsize=1e-10, color='b')\n",
    "            ax.set_title(\"t = \" + str(t))\n",
    "\n",
    "            progress_bar.update(1)\n",
    "\n",
    "        ani = animation.FuncAnimation(fig, update, frames = range(time_points), blit=False)     # Creates the animation\n",
    "\n",
    "        # Make the output directory (if it doesn't already exist), and save the file in the output directory\n",
    "        Path(output_dir).mkdir(parents=True, exist_ok=True)\n",
    "        ani.save(Path(output_dir) / (Path(filename).stem + \".mp4\"), writer='ffmpeg', fps=1)\n",
    "\n",
    "        plt.close(fig)\n",
    "        progress_bar.close()"
   ]
  },
  {
   "cell_type": "code",
   "execution_count": null,
   "metadata": {},
   "outputs": [],
   "source": [
    "def convert_folder_to_movies(dir):\n",
    "    for file in Path(dir).iterdir():\n",
    "        if (file.is_file() and file.suffix == \".hdf5\"):     # Just to make sure that the file is indeed a file, specfically, an HDF5 file\n",
    "            print(file)\n",
    "            create_movie(file, Path(dir).name)"
   ]
  },
  {
   "cell_type": "code",
   "execution_count": null,
   "metadata": {},
   "outputs": [],
   "source": [
    "convert_folder_to_movies(\"../data/activity_assay\")\n",
    "# convert_folder_to_movies(\"../data/elastic_activity_assay\")"
   ]
  }
 ],
 "metadata": {
  "kernelspec": {
   "display_name": "Python 3",
   "language": "python",
   "name": "python3"
  },
  "language_info": {
   "codemirror_mode": {
    "name": "ipython",
    "version": 3
   },
   "file_extension": ".py",
   "mimetype": "text/x-python",
   "name": "python",
   "nbconvert_exporter": "python",
   "pygments_lexer": "ipython3",
   "version": "3.9.12"
  }
 },
 "nbformat": 4,
 "nbformat_minor": 2
}
